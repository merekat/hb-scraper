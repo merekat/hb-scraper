{
 "cells": [
  {
   "cell_type": "markdown",
   "id": "4524eb1b",
   "metadata": {},
   "source": [
    "# SEC 13F-Scraper"
   ]
  },
  {
   "cell_type": "markdown",
   "id": "347ce408",
   "metadata": {},
   "source": [
    "## Import "
   ]
  },
  {
   "cell_type": "code",
   "execution_count": 4,
   "id": "4ba1a17a",
   "metadata": {},
   "outputs": [],
   "source": [
    "#!pip install selenium"
   ]
  },
  {
   "cell_type": "code",
   "execution_count": null,
   "id": "a5da56f2",
   "metadata": {},
   "outputs": [],
   "source": [
    "import os\n",
    "import time\n",
    "import pandas as pd\n",
    "from selenium import webdriver\n",
    "from selenium.webdriver.common.by import By\n",
    "from selenium.webdriver.support.ui import WebDriverWait\n",
    "from selenium.webdriver.support import expected_conditions as EC\n",
    "from selenium.common.exceptions import TimeoutException"
   ]
  },
  {
   "cell_type": "code",
   "execution_count": null,
   "id": "645f4c38-6d5c-46a3-a7b4-75103a0c6a94",
   "metadata": {},
   "outputs": [],
   "source": [
    "def scrape_sec_filings(cik_list):\n",
    "    driver = webdriver.Chrome()\n",
    "    os.makedirs('data_sec', exist_ok=True)\n",
    "\n",
    "    for cik_number in cik_list:\n",
    "        try:\n",
    "            cik_padded = str(cik_number).zfill(10)\n",
    "            \n",
    "            # Set page load timeout to 13 seconds\n",
    "            driver.set_page_load_timeout(13)\n",
    "            \n",
    "            try:\n",
    "                url = f\"https://www.sec.gov/edgar/search/#/q={cik_padded}&filter_forms=13F-HR&sort=desc\"\n",
    "                driver.get(url)\n",
    "            except TimeoutException:\n",
    "                driver.execute_script(\"window.stop();\")\n",
    "\n",
    "            first_result = WebDriverWait(driver, 10).until(\n",
    "                EC.element_to_be_clickable((By.CSS_SELECTOR, \"a.preview-file[data-adsh]\"))\n",
    "            )\n",
    "            first_result.click()\n",
    "\n",
    "            open_filing_button = WebDriverWait(driver, 10).until(\n",
    "                EC.element_to_be_clickable((By.XPATH, \"//button[contains(@class, 'btn-warning') and contains(text(), 'Open filing')]\"))\n",
    "            )\n",
    "            open_filing_button.click()\n",
    "\n",
    "            driver.switch_to.window(driver.window_handles[-1])\n",
    "\n",
    "            driver.set_page_load_timeout(3)\n",
    "            try:\n",
    "                driver.get(driver.current_url)\n",
    "            except TimeoutException:\n",
    "                driver.execute_script(\"window.stop();\")\n",
    "\n",
    "            target_link_xpath = \"//table[@class='tableFile']/tbody/tr[4]/td[3]/a\"\n",
    "            target_link = WebDriverWait(driver, 5).until(\n",
    "                EC.element_to_be_clickable((By.XPATH, target_link_xpath))\n",
    "            )\n",
    "            target_link.click()\n",
    "\n",
    "            table = WebDriverWait(driver, 10).until(\n",
    "                EC.presence_of_element_located((By.XPATH, \"/html/body/table[2]\"))\n",
    "            )\n",
    "            \n",
    "            table_html = table.get_attribute('outerHTML')\n",
    "            \n",
    "            df = pd.read_html(table_html)[0]\n",
    "            csv_file_path = os.path.join('data_sec', f'{cik_padded}.csv')\n",
    "            df.to_csv(csv_file_path, index=False)\n",
    "\n",
    "            print(f\"Table content for CIK {cik_padded} saved to {csv_file_path}\")\n",
    "\n",
    "        except Exception as e:\n",
    "            print(f\"An error occurred for CIK {cik_padded}: {e}\")\n",
    "\n",
    "    driver.quit()"
   ]
  },
  {
   "cell_type": "code",
   "execution_count": null,
   "id": "ee6f31e3",
   "metadata": {},
   "outputs": [
    {
     "name": "stdout",
     "output_type": "stream",
     "text": [
      "Table content for CIK 0001336528 saved to data_sec/0001336528.csv\n"
     ]
    },
    {
     "name": "stderr",
     "output_type": "stream",
     "text": [
      "/var/folders/r4/fl6n9frd7q70xc5p80q7crbr0000gn/T/ipykernel_70101/108717462.py:49: FutureWarning: Passing literal html to 'read_html' is deprecated and will be removed in a future version. To read from a literal string, wrap it in a 'StringIO' object.\n",
      "  df = pd.read_html(table_html)[0]\n"
     ]
    }
   ],
   "source": [
    "def main():\n",
    "    df = pd.read_csv('data/test.csv')\n",
    "    df_cik = df['cik'].astype(str).tolist()\n",
    "    scrape_sec_filings(df_cik)\n",
    "\n",
    "if __name__ == \"__main__\":\n",
    "    main()"
   ]
  },
  {
   "cell_type": "code",
   "execution_count": 122,
   "id": "7e0c6ab4",
   "metadata": {},
   "outputs": [
    {
     "name": "stderr",
     "output_type": "stream",
     "text": [
      "/var/folders/r4/fl6n9frd7q70xc5p80q7crbr0000gn/T/ipykernel_70101/485509553.py:57: FutureWarning: Passing literal html to 'read_html' is deprecated and will be removed in a future version. To read from a literal string, wrap it in a 'StringIO' object.\n",
      "  df = pd.read_html(table_html)[0]\n"
     ]
    },
    {
     "name": "stdout",
     "output_type": "stream",
     "text": [
      "Table content for CIK 0001336528 saved to data_sec/0001336528.csv\n",
      "Table content for CIK 0001067983 saved to data_sec/0001067983.csv\n"
     ]
    },
    {
     "name": "stderr",
     "output_type": "stream",
     "text": [
      "/var/folders/r4/fl6n9frd7q70xc5p80q7crbr0000gn/T/ipykernel_70101/485509553.py:57: FutureWarning: Passing literal html to 'read_html' is deprecated and will be removed in a future version. To read from a literal string, wrap it in a 'StringIO' object.\n",
      "  df = pd.read_html(table_html)[0]\n"
     ]
    }
   ],
   "source": [
    "import os\n",
    "import time\n",
    "import pandas as pd\n",
    "from selenium import webdriver\n",
    "from selenium.webdriver.common.by import By\n",
    "from selenium.webdriver.support.ui import WebDriverWait\n",
    "from selenium.webdriver.support import expected_conditions as EC\n",
    "from selenium.common.exceptions import TimeoutException\n",
    "\n",
    "def scrape_sec_filings(cik_list):\n",
    "    driver = webdriver.Chrome()\n",
    "    os.makedirs('data_sec', exist_ok=True)\n",
    "\n",
    "    for cik_number in cik_list:\n",
    "        try:\n",
    "            cik_padded = str(cik_number).zfill(10)\n",
    "            \n",
    "            # Set page load timeout to 13 seconds\n",
    "            driver.set_page_load_timeout(13)\n",
    "            \n",
    "            try:\n",
    "                url = f\"https://www.sec.gov/edgar/search/#/q={cik_padded}&filter_forms=13F-HR&sort=desc\"\n",
    "                driver.get(url)\n",
    "            except TimeoutException:\n",
    "                driver.execute_script(\"window.stop();\")\n",
    "\n",
    "            first_result = WebDriverWait(driver, 10).until(\n",
    "                EC.element_to_be_clickable((By.CSS_SELECTOR, \"a.preview-file[data-adsh]\"))\n",
    "            )\n",
    "            first_result.click()\n",
    "\n",
    "            open_filing_button = WebDriverWait(driver, 10).until(\n",
    "                EC.element_to_be_clickable((By.XPATH, \"//button[contains(@class, 'btn-warning') and contains(text(), 'Open filing')]\"))\n",
    "            )\n",
    "            open_filing_button.click()\n",
    "\n",
    "            driver.switch_to.window(driver.window_handles[-1])\n",
    "\n",
    "            driver.set_page_load_timeout(3)\n",
    "            try:\n",
    "                driver.get(driver.current_url)\n",
    "            except TimeoutException:\n",
    "                driver.execute_script(\"window.stop();\")\n",
    "\n",
    "            target_link_xpath = \"//table[@class='tableFile']/tbody/tr[4]/td[3]/a\"\n",
    "            target_link = WebDriverWait(driver, 5).until(\n",
    "                EC.element_to_be_clickable((By.XPATH, target_link_xpath))\n",
    "            )\n",
    "            target_link.click()\n",
    "\n",
    "            table = WebDriverWait(driver, 10).until(\n",
    "                EC.presence_of_element_located((By.XPATH, \"/html/body/table[2]\"))\n",
    "            )\n",
    "            \n",
    "            table_html = table.get_attribute('outerHTML')\n",
    "            \n",
    "            df = pd.read_html(table_html)[0]\n",
    "            csv_file_path = os.path.join('data_sec', f'{cik_padded}.csv')\n",
    "            df.to_csv(csv_file_path, index=False)\n",
    "\n",
    "            print(f\"Table content for CIK {cik_padded} saved to {csv_file_path}\")\n",
    "\n",
    "        except Exception as e:\n",
    "            print(f\"An error occurred for CIK {cik_padded}: {e}\")\n",
    "\n",
    "    driver.quit()\n",
    "\n",
    "def main():\n",
    "    df = pd.read_csv('data/test.csv')\n",
    "    df_cik = df['cik'].astype(str).tolist()\n",
    "    scrape_sec_filings(df_cik)\n",
    "\n",
    "if __name__ == \"__main__\":\n",
    "    main()\n"
   ]
  },
  {
   "cell_type": "code",
   "execution_count": null,
   "id": "b8cc2703",
   "metadata": {},
   "outputs": [],
   "source": []
  }
 ],
 "metadata": {
  "kernelspec": {
   "display_name": "venv",
   "language": "python",
   "name": "python3"
  },
  "language_info": {
   "codemirror_mode": {
    "name": "ipython",
    "version": 3
   },
   "file_extension": ".py",
   "mimetype": "text/x-python",
   "name": "python",
   "nbconvert_exporter": "python",
   "pygments_lexer": "ipython3",
   "version": "3.12.2"
  }
 },
 "nbformat": 4,
 "nbformat_minor": 5
}

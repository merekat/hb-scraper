{
 "cells": [
  {
   "cell_type": "markdown",
   "id": "4524eb1b",
   "metadata": {},
   "source": [
    "# SEC 13F-Scraper"
   ]
  },
  {
   "cell_type": "markdown",
   "id": "347ce408",
   "metadata": {},
   "source": [
    "## Import "
   ]
  },
  {
   "cell_type": "code",
   "execution_count": 1,
   "id": "4ba1a17a",
   "metadata": {},
   "outputs": [],
   "source": [
    "#!pip install selenium"
   ]
  },
  {
   "cell_type": "code",
   "execution_count": 2,
   "id": "a5da56f2",
   "metadata": {},
   "outputs": [],
   "source": [
    "import os\n",
    "import time\n",
    "import pandas as pd\n",
    "from selenium import webdriver\n",
    "from selenium.webdriver.common.by import By\n",
    "from selenium.webdriver.support.ui import WebDriverWait\n",
    "from selenium.webdriver.support import expected_conditions as EC\n",
    "from selenium.common.exceptions import TimeoutException, StaleElementReferenceException\n",
    "from datetime import datetime\n",
    "from io import StringIO"
   ]
  },
  {
   "cell_type": "code",
   "execution_count": 3,
   "id": "25f35b48",
   "metadata": {},
   "outputs": [],
   "source": [
    "def selector(driver, by, value, timeout=5):\n",
    "    return WebDriverWait(driver, timeout).until(\n",
    "        EC.presence_of_element_located((by, value))\n",
    "    )"
   ]
  },
  {
   "cell_type": "code",
   "execution_count": 4,
   "id": "645f4c38-6d5c-46a3-a7b4-75103a0c6a94",
   "metadata": {},
   "outputs": [],
   "source": [
    "def scraper(cik, data):\n",
    "    driver = webdriver.Chrome()\n",
    "    os.makedirs('data_sec', exist_ok=True)\n",
    "\n",
    "    date = datetime.now().strftime(\"%Y-%m-%d\")\n",
    "    path_csv = os.path.join('data_sec', f'{date}.csv')\n",
    "\n",
    "    filed_updated = []\n",
    "\n",
    "    for id, cik in enumerate(cik):\n",
    "        try:\n",
    "            cik_value = str(cik).zfill(10)\n",
    "            id_value = data.loc[id, 'id']\n",
    "            vip_value = data.loc[id, 'vip']\n",
    "            name_value = data.loc[id, 'name']\n",
    "            filed_old = data.loc[id, 'filed']\n",
    "\n",
    "            url = f\"https://www.sec.gov/edgar/search/#/q={cik_value}&filter_forms=13F-HR&sort=desc\"\n",
    "            driver.get(url)\n",
    "            \n",
    "            time.sleep(2)  # Short wait for initial load\n",
    "\n",
    "            result_first = selector(driver, By.CSS_SELECTOR, \"a.preview-file[data-adsh]\")\n",
    "\n",
    "            filed_new = selector(driver, By.XPATH, \"/html/body/div[3]/div[2]/div[2]/table/tbody/tr[1]/td[2]\").text\n",
    "            quarter = selector(driver, By.XPATH, \"/html/body/div[3]/div[2]/div[2]/table/tbody/tr[1]/td[3]\").text\n",
    "\n",
    "            # Compare filed dates\n",
    "            if pd.notna(filed_old) and filed_old != '':\n",
    "                date_old = datetime.strptime(filed_old, \"%Y-%m-%d\")\n",
    "                date_new = datetime.strptime(filed_new, \"%Y-%m-%d\")\n",
    "                print(f\"CIK: {cik_value}, Existing date: {date_old}, New date: {date_new}\")\n",
    "                if date_new <= date_old:\n",
    "                    print(f\"No new filing for CIK {cik_value}. Skipping...\")\n",
    "                    filed_updated.append(filed_old)\n",
    "                    continue  # Skip to the next CIK\n",
    "\n",
    "            print(f\"New filing found for CIK {cik_value}. Proceeding with scraping...\")\n",
    "            filed_updated.append(filed_new)\n",
    "\n",
    "            result_first.click()\n",
    "\n",
    "            open_filing_button = selector(driver, By.XPATH, \"//button[contains(@class, 'btn-warning') and contains(text(), 'Open filing')]\")\n",
    "            open_filing_button.click()\n",
    "\n",
    "            driver.switch_to.window(driver.window_handles[-1])\n",
    "\n",
    "            # Implement the speedup method\n",
    "            driver.set_page_load_timeout(3)\n",
    "            try:\n",
    "                driver.get(driver.current_url)\n",
    "            except TimeoutException:\n",
    "                driver.execute_script(\"window.stop();\")\n",
    "\n",
    "            target_link_xpath = \"//table[@class='tableFile']/tbody/tr[4]/td[3]/a\"\n",
    "            target_link = WebDriverWait(driver, 5).until(\n",
    "                EC.element_to_be_clickable((By.XPATH, target_link_xpath))\n",
    "            )\n",
    "            target_link.click()\n",
    "\n",
    "            table = WebDriverWait(driver, 10).until(\n",
    "                EC.presence_of_element_located((By.XPATH, \"/html/body/table[2]\"))\n",
    "            )\n",
    "            \n",
    "            table_html = table.get_attribute('outerHTML')\n",
    "            \n",
    "            # Use StringIO to wrap the HTML string\n",
    "            html_io = StringIO(table_html)\n",
    "            df = pd.read_html(html_io)[0]\n",
    "\n",
    "            df = df.iloc[3:].reset_index(drop=True)\n",
    "\n",
    "            df.columns = [\n",
    "                \"company\", \"stock type\", \"cusip-id\", \"figi-id\", \"value\", \n",
    "                \"number\", \"principal amount\", \"call/put\", \"discretion\", \n",
    "                \"manager\", \"sole voting authority\", \"shared voting authority\", \n",
    "                \"none voting authority\"\n",
    "            ]\n",
    "\n",
    "            df_input = pd.DataFrame({\n",
    "                'id': id_value,\n",
    "                'vip': vip_value,\n",
    "                'name': name_value,\n",
    "                'cik': cik_value,\n",
    "                'filed': filed_new,\n",
    "                'enddate': quarter\n",
    "            }, index=df.index)\n",
    "\n",
    "            df = pd.concat([df_input, df], axis=1)\n",
    "\n",
    "            df.to_csv(path_csv, mode='a', header=not os.path.exists(path_csv), index=False)\n",
    "\n",
    "        except Exception as e:\n",
    "            print(f\"An error occurred for CIK {cik_value}: {e}\")\n",
    "            filed_updated.append(filed_old)  # Keep the existing value in case of error\n",
    "\n",
    "        finally:\n",
    "            # Close all tabs except the first one\n",
    "            while len(driver.window_handles) > 1:\n",
    "                driver.switch_to.window(driver.window_handles[-1])\n",
    "                driver.close()\n",
    "            driver.switch_to.window(driver.window_handles[0])\n",
    "\n",
    "    driver.quit()\n",
    "\n",
    "    # Update test.csv with new filed values only after all scraping is done\n",
    "    data['filed'] = filed_updated\n",
    "    data.to_csv('data/test.csv', index=False)"
   ]
  },
  {
   "cell_type": "code",
   "execution_count": 5,
   "id": "ee6f31e3",
   "metadata": {},
   "outputs": [
    {
     "name": "stdout",
     "output_type": "stream",
     "text": [
      "CIK: 0001336528, Existing date: 2024-11-14 00:00:00, New date: 2024-11-14 00:00:00\n",
      "No new filing for CIK 0001336528. Skipping...\n",
      "CIK: 0001067983, Existing date: 2024-11-12 00:00:00, New date: 2024-11-14 00:00:00\n",
      "New filing found for CIK 0001067983. Proceeding with scraping...\n"
     ]
    }
   ],
   "source": [
    "def main():\n",
    "    data = pd.read_csv('data/test.csv')\n",
    "    df_cik = data['cik'].astype(str).tolist()\n",
    "    scraper(df_cik, data)\n",
    "\n",
    "if __name__ == \"__main__\":\n",
    "    main()"
   ]
  },
  {
   "cell_type": "markdown",
   "id": "d9bf229f",
   "metadata": {},
   "source": [
    "- Berechnung Quartalsabhängig machen\n",
    "- Output überschreiben, nicht adden\n",
    "- zweiten Scraper für zusatzinfos\n",
    "- Error-Handling für 404 und no-results in Search"
   ]
  },
  {
   "cell_type": "markdown",
   "id": "ddd47a2d",
   "metadata": {},
   "source": []
  }
 ],
 "metadata": {
  "kernelspec": {
   "display_name": "venv",
   "language": "python",
   "name": "python3"
  },
  "language_info": {
   "codemirror_mode": {
    "name": "ipython",
    "version": 3
   },
   "file_extension": ".py",
   "mimetype": "text/x-python",
   "name": "python",
   "nbconvert_exporter": "python",
   "pygments_lexer": "ipython3",
   "version": "3.12.2"
  }
 },
 "nbformat": 4,
 "nbformat_minor": 5
}

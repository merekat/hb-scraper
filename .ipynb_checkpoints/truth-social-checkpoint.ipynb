{
 "cells": [
  {
   "cell_type": "code",
   "execution_count": null,
   "id": "c2fbcf4b-05c2-45d4-9741-5b535a03c7a0",
   "metadata": {},
   "outputs": [],
   "source": [
    "import requests\n",
    "import pandas as pd\n",
    "import matplotlib.pyplot as plt\n",
    "from datetime import datetime, timedelta"
   ]
  },
  {
   "cell_type": "markdown",
   "id": "3b26cc18-6aaf-4deb-9f15-64fe75516e5d",
   "metadata": {},
   "source": [
    "API keys can be found here: https://twelvedata.com/account/api-keys"
   ]
  },
  {
   "cell_type": "code",
   "execution_count": null,
   "id": "75a1184f-fb50-46b2-9405-57bfb759899c",
   "metadata": {},
   "outputs": [],
   "source": [
    "# Function to read API key from CSV\n",
    "def get_api_key(file_path, service_name):\n",
    "    with open(file_path, 'r') as csvfile:\n",
    "        reader = csv.DictReader(csvfile)\n",
    "        for row in reader:\n",
    "            if row['service'] == service_name:\n",
    "                return row['key']\n",
    "    raise ValueError(f\"API key for {service_name} not found in the CSV file\")"
   ]
  },
  {
   "cell_type": "code",
   "execution_count": null,
   "id": "d465fa28-d205-4236-9cbf-37837cc595de",
   "metadata": {},
   "outputs": [],
   "source": [
    "# Twelve Data API endpoint and API key\n",
    "BASE_URL = \"https://api.twelvedata.com/time_series\"\n",
    "\n",
    "# Get API key from CSV file\n",
    "API_KEY = get_api_key('api_keys.csv', 'twelve_data')\n",
    "\n",
    "# Set up parameters for the API request\n",
    "symbol = \"DJT\"\n",
    "interval = \"1h\"\n",
    "end_date = datetime.now().strftime(\"%Y-%m-%d %H:%M:%S\")\n",
    "start_date = (datetime.now() - timedelta(days=7)).strftime(\"%Y-%m-%d %H:%M:%S\")\n",
    "\n",
    "params = {\n",
    "    \"symbol\": symbol,\n",
    "    \"interval\": interval,\n",
    "    \"apikey\": API_KEY,\n",
    "    \"start_date\": start_date,\n",
    "    \"end_date\": end_date\n",
    "}\n",
    "\n",
    "response = requests.get(BASE_URL, params=params)"
   ]
  },
  {
   "cell_type": "code",
   "execution_count": null,
   "id": "b23f0c5f-4042-4435-ad1d-44aa7a9df3a1",
   "metadata": {},
   "outputs": [],
   "source": [
    "if response.status_code == 200:\n",
    "    data = response.json()\n",
    "    \n",
    "    if \"values\" in data:\n",
    "        # Convert the data to a pandas DataFrame\n",
    "        df = pd.DataFrame(data[\"values\"])\n",
    "        \n",
    "        # Convert datetime and numeric columns\n",
    "        df[\"datetime\"] = pd.to_datetime(df[\"datetime\"])\n",
    "        df[\"close\"] = pd.to_numeric(df[\"close\"])\n",
    "        \n",
    "        # Sort the DataFrame by date\n",
    "        df = df.sort_values(\"datetime\")\n",
    "        \n",
    "        print(df.tail())\n",
    "\n",
    "        # Plotting\n",
    "        plt.figure(figsize=(12, 6))\n",
    "        plt.plot(df[\"datetime\"], df[\"close\"])\n",
    "        plt.title(f'Hourly Stock Price for {symbol}')\n",
    "        plt.xlabel('Date')\n",
    "        plt.ylabel('Price (USD)')\n",
    "        plt.xticks(rotation=45)\n",
    "        plt.grid(True)\n",
    "        plt.tight_layout()\n",
    "        plt.show()\n",
    "\n",
    "        # Print some statistics\n",
    "        print(f\"Current price: ${df['close'].iloc[-1]:.2f}\")\n",
    "        print(f\"Highest price: ${df['close'].max():.2f}\")\n",
    "        print(f\"Lowest price: ${df['close'].min():.2f}\")\n",
    "        print(f\"Average price: ${df['close'].mean():.2f}\")\n",
    "\n",
    "    else:\n",
    "        print(\"No data found in the response\")\n",
    "else:\n",
    "    print(f\"Error: {response.status_code}\")\n",
    "    print(response.text)\n"
   ]
  },
  {
   "cell_type": "code",
   "execution_count": null,
   "id": "645f4c38-6d5c-46a3-a7b4-75103a0c6a94",
   "metadata": {},
   "outputs": [],
   "source": []
  }
 ],
 "metadata": {
  "kernelspec": {
   "display_name": "Python 3 (ipykernel)",
   "language": "python",
   "name": "python3"
  },
  "language_info": {
   "codemirror_mode": {
    "name": "ipython",
    "version": 3
   },
   "file_extension": ".py",
   "mimetype": "text/x-python",
   "name": "python",
   "nbconvert_exporter": "python",
   "pygments_lexer": "ipython3",
   "version": "3.9.6"
  }
 },
 "nbformat": 4,
 "nbformat_minor": 5
}

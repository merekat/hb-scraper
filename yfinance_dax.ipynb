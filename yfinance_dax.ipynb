{
 "cells": [
  {
   "cell_type": "code",
   "execution_count": 1,
   "id": "c2fbcf4b-05c2-45d4-9741-5b535a03c7a0",
   "metadata": {},
   "outputs": [],
   "source": [
    "import yfinance as yf\n",
    "import pandas as pd\n",
    "import numpy as np\n",
    "from datetime import datetime, timedelta"
   ]
  },
  {
   "cell_type": "code",
   "execution_count": 12,
   "id": "d465fa28-d205-4236-9cbf-37837cc595de",
   "metadata": {},
   "outputs": [
    {
     "name": "stderr",
     "output_type": "stream",
     "text": [
      "[*********************100%***********************]  1 of 1 completed\n"
     ]
    }
   ],
   "source": [
    "\n",
    "# Fetch DAX data\n",
    "ticker_symbol = \"^GDAXI\"\n",
    "dax_data = yf.download(ticker_symbol, start=\"1900-01-01\", end=\"2025-01-13\")\n",
    "\n",
    "# Convert to a Pandas DataFrame\n",
    "dax_df = pd.DataFrame(dax_data)\n",
    "\n",
    "# Bundestagswahl data\n",
    "elections_data = [\n",
    "    (\"1949-08-14\", \"CDU/CSU, FDP, DP\"),\n",
    "    (\"1953-09-06\", \"CDU/CSU, FDP, DP, GB/BHE\"),\n",
    "    (\"1957-09-15\", \"CDU/CSU, DP\"),\n",
    "    (\"1961-09-17\", \"CDU/CSU, FDP\"),\n",
    "    (\"1965-09-19\", \"CDU/CSU, SPD\"),\n",
    "    (\"1969-09-28\", \"SPD, FDP\"),\n",
    "    (\"1972-11-19\", \"SPD, FDP\"),\n",
    "    (\"1976-10-03\", \"SPD, FDP\"),\n",
    "    (\"1980-10-05\", \"SPD, FDP\"),\n",
    "    (\"1983-03-06\", \"CDU/CSU, FDP\"),\n",
    "    (\"1987-01-25\", \"CDU/CSU, FDP\"),\n",
    "    (\"1990-12-02\", \"CDU/CSU, FDP\"),\n",
    "    (\"1994-10-16\", \"CDU/CSU, FDP\"),\n",
    "    (\"1998-09-27\", \"SPD, Greens\"),\n",
    "    (\"2002-09-22\", \"SPD, Greens\"),\n",
    "    (\"2005-09-18\", \"CDU/CSU, SPD\"),\n",
    "    (\"2009-09-27\", \"CDU/CSU, FDP\"),\n",
    "    (\"2013-09-22\", \"CDU/CSU, SPD\"),\n",
    "    (\"2017-09-24\", \"CDU/CSU, SPD\"),\n",
    "    (\"2021-09-26\", \"SPD, Greens, FDP\")\n",
    "]"
   ]
  },
  {
   "cell_type": "code",
   "execution_count": 18,
   "id": "b23f0c5f-4042-4435-ad1d-44aa7a9df3a1",
   "metadata": {},
   "outputs": [
    {
     "name": "stdout",
     "output_type": "stream",
     "text": [
      "   Election Date Governing Parties  Performance Before (%)  \\\n",
      "10    1987-01-25      CDU/CSU, FDP                     NaN   \n",
      "11    1990-12-02      CDU/CSU, FDP                   -0.53   \n",
      "12    1994-10-16      CDU/CSU, FDP                   -3.59   \n",
      "13    1998-09-27       SPD, Greens                  -13.89   \n",
      "14    2002-09-22       SPD, Greens                  -20.09   \n",
      "15    2005-09-18      CDU/CSU, SPD                    1.82   \n",
      "16    2009-09-27      CDU/CSU, FDP                   10.28   \n",
      "17    2013-09-22      CDU/CSU, SPD                    3.30   \n",
      "18    2017-09-24      CDU/CSU, SPD                    3.53   \n",
      "19    2021-09-26  SPD, Greens, FDP                   -2.21   \n",
      "\n",
      "    Performance After (%)  \n",
      "10                    NaN  \n",
      "11                  -6.06  \n",
      "12                  -1.88  \n",
      "13                   2.83  \n",
      "14                   8.61  \n",
      "15                  -2.04  \n",
      "16                  -4.32  \n",
      "17                   4.31  \n",
      "18                   7.02  \n",
      "19                   3.09  \n"
     ]
    },
    {
     "name": "stderr",
     "output_type": "stream",
     "text": [
      "C:\\Users\\softw\\AppData\\Local\\Temp\\ipykernel_11932\\2058339481.py:46: FutureWarning: Calling float on a single element Series is deprecated and will raise a TypeError in the future. Use float(ser.iloc[0]) instead\n",
      "  election_performance_df['Performance Before (%)'] = election_performance_df['Performance Before (%)'].astype(float)\n",
      "C:\\Users\\softw\\AppData\\Local\\Temp\\ipykernel_11932\\2058339481.py:47: FutureWarning: Calling float on a single element Series is deprecated and will raise a TypeError in the future. Use float(ser.iloc[0]) instead\n",
      "  election_performance_df['Performance After (%)'] = election_performance_df['Performance After (%)'].astype(float)\n"
     ]
    }
   ],
   "source": [
    "def calculate_performance(date):\n",
    "    election_date = datetime.strptime(date, \"%Y-%m-%d\")\n",
    "    start_date = election_date - timedelta(weeks=6)\n",
    "    end_date = election_date + timedelta(weeks=6)\n",
    "    \n",
    "    # Ensure we have data in the specified range\n",
    "    if start_date < dax_df.index[0]:\n",
    "        return None, None\n",
    "    \n",
    "    # Filter the DAX data for the relevant period\n",
    "    period_data = dax_df[(dax_df.index >= start_date) & (dax_df.index <= end_date)]\n",
    "    \n",
    "    if not period_data.empty:\n",
    "        start_price = period_data['Close'].iloc[0]\n",
    "        \n",
    "        # Find the closest date to the election date within the period\n",
    "        nearest_date = period_data.index[np.abs(period_data.index - election_date).argmin()]\n",
    "        mid_price = period_data['Close'].loc[nearest_date]\n",
    "        \n",
    "        end_price = period_data['Close'].iloc[-1]\n",
    "        \n",
    "        before_performance = ((mid_price / start_price) - 1) * 100\n",
    "        after_performance = ((end_price / mid_price) - 1) * 100\n",
    "        \n",
    "        return round(before_performance, 2), round(after_performance, 2)\n",
    "    \n",
    "    return None, None\n",
    "\n",
    "# Calculate performance for each election and store results\n",
    "performances = []\n",
    "for date, parties in elections_data:\n",
    "    before, after = calculate_performance(date)\n",
    "    \n",
    "    # Append results ensuring numerical values are stored directly\n",
    "    performances.append({\n",
    "        'Election Date': date,\n",
    "        'Governing Parties': parties,\n",
    "        'Performance Before (%)': before,\n",
    "        'Performance After (%)': after\n",
    "    })\n",
    "\n",
    "# Create DataFrame with election results and DAX performance\n",
    "election_performance_df = pd.DataFrame(performances)\n",
    "\n",
    "# Clean up performance columns to ensure they are numeric and handle NaN values properly\n",
    "election_performance_df['Performance Before (%)'] = election_performance_df['Performance Before (%)'].astype(float)\n",
    "election_performance_df['Performance After (%)'] = election_performance_df['Performance After (%)'].astype(float)\n",
    "\n",
    "print(election_performance_df.tail(10))"
   ]
  },
  {
   "cell_type": "code",
   "execution_count": 19,
   "id": "645f4c38-6d5c-46a3-a7b4-75103a0c6a94",
   "metadata": {},
   "outputs": [],
   "source": [
    "# Save the election performance data to a CSV file\n",
    "election_performance_df.to_csv(\"data/election_dax_performance.csv\", index=False)"
   ]
  },
  {
   "cell_type": "code",
   "execution_count": 20,
   "id": "b2c0dcb9",
   "metadata": {},
   "outputs": [
    {
     "name": "stdout",
     "output_type": "stream",
     "text": [
      "Average Weekly Growth of DAX: 0.05%\n"
     ]
    }
   ],
   "source": [
    "# Calculate weekly returns and average weekly growth\n",
    "dax_df['Weekly Return'] = dax_df['Close'].pct_change()  # Calculate weekly percentage change\n",
    "\n",
    "# Group by week and calculate average weekly return\n",
    "average_weekly_growth = dax_df['Weekly Return'].resample('W').mean() * 100  # Convert to percentage\n",
    "\n",
    "# Calculate overall average weekly growth\n",
    "overall_average_weekly_growth = average_weekly_growth.mean()\n",
    "\n",
    "print(f\"Average Weekly Growth of DAX: {overall_average_weekly_growth:.2f}%\")"
   ]
  },
  {
   "cell_type": "code",
   "execution_count": 34,
   "id": "cabd34b0",
   "metadata": {},
   "outputs": [
    {
     "name": "stdout",
     "output_type": "stream",
     "text": [
      "   Election Date Governing Parties  start_price Before (%)  \\\n",
      "10    1987-01-25      CDU/CSU, FDP                     NaN   \n",
      "11    1990-12-02      CDU/CSU, FDP                 1458.28   \n",
      "12    1994-10-16      CDU/CSU, FDP                 2048.56   \n",
      "13    1998-09-27       SPD, Greens                 4439.13   \n",
      "14    2002-09-22       SPD, Greens                 3319.05   \n",
      "15    2005-09-18      CDU/CSU, SPD                 4989.98   \n",
      "16    2009-09-27      CDU/CSU, FDP                 5668.65   \n",
      "17    2013-09-22      CDU/CSU, SPD                 8613.00   \n",
      "18    2017-09-24      CDU/CSU, SPD                12559.39   \n",
      "19    2021-09-26  SPD, Greens, FDP                15132.06   \n",
      "\n",
      "    end_price After (%)  \n",
      "10                  NaN  \n",
      "11              1574.77  \n",
      "12              2058.20  \n",
      "13              4666.74  \n",
      "14              3077.06  \n",
      "15              5282.13  \n",
      "16              5831.21  \n",
      "17              9006.46  \n",
      "18             13103.56  \n",
      "19             15531.69  \n"
     ]
    },
    {
     "name": "stderr",
     "output_type": "stream",
     "text": [
      "C:\\Users\\softw\\AppData\\Local\\Temp\\ipykernel_11932\\3703343756.py:43: FutureWarning: Calling float on a single element Series is deprecated and will raise a TypeError in the future. Use float(ser.iloc[0]) instead\n",
      "  election_performance_df['start_price Before (%)'] = election_performance_df['start_price Before (%)'].astype(float)\n",
      "C:\\Users\\softw\\AppData\\Local\\Temp\\ipykernel_11932\\3703343756.py:44: FutureWarning: Calling float on a single element Series is deprecated and will raise a TypeError in the future. Use float(ser.iloc[0]) instead\n",
      "  election_performance_df['end_price After (%)'] = election_performance_df['end_price After (%)'].astype(float)\n"
     ]
    }
   ],
   "source": [
    "def calculate_performance(date):\n",
    "    election_date = datetime.strptime(date, \"%Y-%m-%d\")\n",
    "    start_date = election_date - timedelta(weeks=1)\n",
    "    end_date = election_date + timedelta(weeks=12)\n",
    "    \n",
    "    # Ensure we have data in the specified range\n",
    "    if start_date < dax_df.index[0]:\n",
    "        return None, None\n",
    "    \n",
    "    # Filter the DAX data for the relevant period\n",
    "    period_data = dax_df[(dax_df.index >= start_date) & (dax_df.index <= end_date)]\n",
    "    \n",
    "    if not period_data.empty:\n",
    "        start_price = period_data['Close'].iloc[0]\n",
    "        \n",
    "        # Find the closest date to the election date within the period\n",
    "        nearest_date = period_data.index[np.abs(period_data.index - election_date).argmin()]\n",
    "        mid_price = period_data['Close'].loc[nearest_date]\n",
    "        \n",
    "        end_price = period_data['Close'].iloc[-1]\n",
    "        \n",
    "        return round(start_price, 2), round(end_price, 2)\n",
    "    \n",
    "    return None, None\n",
    "\n",
    "# Calculate performance for each election and store results\n",
    "performances = []\n",
    "for date, parties in elections_data:\n",
    "    before, after = calculate_performance(date)\n",
    "    \n",
    "    # Append results ensuring numerical values are stored directly\n",
    "    performances.append({\n",
    "        'Election Date': date,\n",
    "        'Governing Parties': parties,\n",
    "        'start_price Before (%)': before,\n",
    "        'end_price After (%)': after\n",
    "    })\n",
    "\n",
    "# Create DataFrame with election results and DAX performance\n",
    "election_performance_df = pd.DataFrame(performances)\n",
    "\n",
    "# Clean up performance columns to ensure they are numeric and handle NaN values properly\n",
    "election_performance_df['start_price Before (%)'] = election_performance_df['start_price Before (%)'].astype(float)\n",
    "election_performance_df['end_price After (%)'] = election_performance_df['end_price After (%)'].astype(float)\n",
    "\n",
    "print(election_performance_df.tail(10))"
   ]
  },
  {
   "cell_type": "code",
   "execution_count": 35,
   "id": "c006f476",
   "metadata": {},
   "outputs": [
    {
     "ename": "",
     "evalue": "",
     "output_type": "error",
     "traceback": [
      "\u001b[1;31mThe Kernel crashed while executing code in the current cell or a previous cell. \n",
      "\u001b[1;31mPlease review the code in the cell(s) to identify a possible cause of the failure. \n",
      "\u001b[1;31mClick <a href='https://aka.ms/vscodeJupyterKernelCrash'>here</a> for more info. \n",
      "\u001b[1;31mView Jupyter <a href='command:jupyter.viewOutput'>log</a> for further details."
     ]
    }
   ],
   "source": [
    "# Save the election performance data to a CSV file\n",
    "election_performance_df.to_csv(\"data/election_dax_performance.csv\", index=False)"
   ]
  }
 ],
 "metadata": {
  "kernelspec": {
   "display_name": ".venv",
   "language": "python",
   "name": "python3"
  },
  "language_info": {
   "codemirror_mode": {
    "name": "ipython",
    "version": 3
   },
   "file_extension": ".py",
   "mimetype": "text/x-python",
   "name": "python",
   "nbconvert_exporter": "python",
   "pygments_lexer": "ipython3",
   "version": "3.11.3"
  }
 },
 "nbformat": 4,
 "nbformat_minor": 5
}

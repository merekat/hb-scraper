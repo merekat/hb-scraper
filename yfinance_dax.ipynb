{
 "cells": [
  {
   "cell_type": "code",
   "execution_count": 76,
   "id": "c2fbcf4b-05c2-45d4-9741-5b535a03c7a0",
   "metadata": {},
   "outputs": [],
   "source": [
    "import yfinance as yf\n",
    "import pandas as pd\n",
    "import numpy as np\n",
    "from datetime import datetime, timedelta"
   ]
  },
  {
   "cell_type": "code",
   "execution_count": 77,
   "id": "d465fa28-d205-4236-9cbf-37837cc595de",
   "metadata": {},
   "outputs": [
    {
     "name": "stderr",
     "output_type": "stream",
     "text": [
      "[*********************100%***********************]  1 of 1 completed\n"
     ]
    }
   ],
   "source": [
    "\n",
    "# Fetch DAX data\n",
    "ticker_symbol = \"^GDAXI\"\n",
    "dax_data = yf.download(ticker_symbol, start=\"1900-01-01\", end=\"2025-01-13\")\n",
    "\n",
    "# Convert to a Pandas DataFrame\n",
    "dax_df = pd.DataFrame(dax_data)\n",
    "\n",
    "# Bundestagswahl data\n",
    "elections_data = [\n",
    "    (\"1949-08-14\", \"CDU/CSU, FDP, DP\"),\n",
    "    (\"1953-09-06\", \"CDU/CSU, FDP, DP, GB/BHE\"),\n",
    "    (\"1957-09-15\", \"CDU/CSU, DP\"),\n",
    "    (\"1961-09-17\", \"CDU/CSU, FDP\"),\n",
    "    (\"1965-09-19\", \"CDU/CSU, SPD\"),\n",
    "    (\"1969-09-28\", \"SPD, FDP\"),\n",
    "    (\"1972-11-19\", \"SPD, FDP\"),\n",
    "    (\"1976-10-03\", \"SPD, FDP\"),\n",
    "    (\"1980-10-05\", \"SPD, FDP\"),\n",
    "    (\"1983-03-06\", \"CDU/CSU, FDP\"),\n",
    "    (\"1987-01-25\", \"CDU/CSU, FDP\"),\n",
    "    (\"1990-12-02\", \"CDU/CSU, FDP\"),\n",
    "    (\"1994-10-16\", \"CDU/CSU, FDP\"),\n",
    "    (\"1998-09-27\", \"SPD, Greens\"),\n",
    "    (\"2002-09-22\", \"SPD, Greens\"),\n",
    "    (\"2005-09-18\", \"CDU/CSU, SPD\"),\n",
    "    (\"2009-09-27\", \"CDU/CSU, FDP\"),\n",
    "    (\"2013-09-22\", \"CDU/CSU, SPD\"),\n",
    "    (\"2017-09-24\", \"CDU/CSU, SPD\"),\n",
    "    (\"2021-09-26\", \"SPD, Greens, FDP\")\n",
    "]"
   ]
  },
  {
   "cell_type": "code",
   "execution_count": 78,
   "id": "b23f0c5f-4042-4435-ad1d-44aa7a9df3a1",
   "metadata": {},
   "outputs": [
    {
     "name": "stdout",
     "output_type": "stream",
     "text": [
      "   Election Date Governing Parties  Performance Before (%)  \\\n",
      "10    1987-01-25      CDU/CSU, FDP                     NaN   \n",
      "11    1990-12-02      CDU/CSU, FDP                   -8.55   \n",
      "12    1994-10-16      CDU/CSU, FDP                   -2.27   \n",
      "13    1998-09-27       SPD, Greens                  -21.28   \n",
      "14    2002-09-22       SPD, Greens                  -33.26   \n",
      "15    2005-09-18      CDU/CSU, SPD                    8.89   \n",
      "16    2009-09-27      CDU/CSU, FDP                   23.31   \n",
      "17    2013-09-22      CDU/CSU, SPD                    8.16   \n",
      "18    2017-09-24      CDU/CSU, SPD                    0.96   \n",
      "19    2021-09-26  SPD, Greens, FDP                   -0.56   \n",
      "\n",
      "    Performance After (%)  \n",
      "10                    NaN  \n",
      "11                   7.39  \n",
      "12                  -1.78  \n",
      "13                  -0.23  \n",
      "14                   5.59  \n",
      "15                   7.23  \n",
      "16                   1.65  \n",
      "17                   4.30  \n",
      "18                   4.04  \n",
      "19                  -0.27  \n"
     ]
    },
    {
     "name": "stderr",
     "output_type": "stream",
     "text": [
      "C:\\Users\\softw\\AppData\\Local\\Temp\\ipykernel_43160\\3967435015.py:46: FutureWarning: Calling float on a single element Series is deprecated and will raise a TypeError in the future. Use float(ser.iloc[0]) instead\n",
      "  election_performance_df['Performance Before (%)'] = election_performance_df['Performance Before (%)'].astype(float)\n",
      "C:\\Users\\softw\\AppData\\Local\\Temp\\ipykernel_43160\\3967435015.py:47: FutureWarning: Calling float on a single element Series is deprecated and will raise a TypeError in the future. Use float(ser.iloc[0]) instead\n",
      "  election_performance_df['Performance After (%)'] = election_performance_df['Performance After (%)'].astype(float)\n"
     ]
    }
   ],
   "source": [
    "def calculate_performance(date):\n",
    "    election_date = datetime.strptime(date, \"%Y-%m-%d\")\n",
    "    start_date = election_date - timedelta(weeks=12)\n",
    "    end_date = election_date + timedelta(weeks=12)\n",
    "    \n",
    "    # Ensure we have data in the specified range\n",
    "    if start_date < dax_df.index[0]:\n",
    "        return None, None\n",
    "    \n",
    "    # Filter the DAX data for the relevant period\n",
    "    period_data = dax_df[(dax_df.index >= start_date) & (dax_df.index <= end_date)]\n",
    "    \n",
    "    if not period_data.empty:\n",
    "        start_price = period_data['Close'].iloc[0]\n",
    "        \n",
    "        # Find the closest date to the election date within the period\n",
    "        nearest_date = period_data.index[np.abs(period_data.index - election_date).argmin()]\n",
    "        mid_price = period_data['Close'].loc[nearest_date]\n",
    "        \n",
    "        end_price = period_data['Close'].iloc[-1]\n",
    "        \n",
    "        before_performance = ((mid_price / start_price) - 1) * 100\n",
    "        after_performance = ((end_price / mid_price) - 1) * 100\n",
    "        \n",
    "        return round(before_performance, 2), round(after_performance, 2)\n",
    "    \n",
    "    return None, None\n",
    "\n",
    "# Calculate performance for each election and store results\n",
    "performances = []\n",
    "for date, parties in elections_data:\n",
    "    before, after = calculate_performance(date)\n",
    "    \n",
    "    # Append results ensuring numerical values are stored directly\n",
    "    performances.append({\n",
    "        'Election Date': date,\n",
    "        'Governing Parties': parties,\n",
    "        'Performance Before (%)': before,\n",
    "        'Performance After (%)': after\n",
    "    })\n",
    "\n",
    "# Create DataFrame with election results and DAX performance\n",
    "election_performance_df = pd.DataFrame(performances)\n",
    "\n",
    "# Clean up performance columns to ensure they are numeric and handle NaN values properly\n",
    "election_performance_df['Performance Before (%)'] = election_performance_df['Performance Before (%)'].astype(float)\n",
    "election_performance_df['Performance After (%)'] = election_performance_df['Performance After (%)'].astype(float)\n",
    "\n",
    "print(election_performance_df.tail(10))"
   ]
  },
  {
   "cell_type": "code",
   "execution_count": 79,
   "id": "645f4c38-6d5c-46a3-a7b4-75103a0c6a94",
   "metadata": {},
   "outputs": [],
   "source": [
    "# Save the election performance data to a CSV file\n",
    "election_performance_df.to_csv(\"data/election_dax_performance.csv\", index=False)"
   ]
  }
 ],
 "metadata": {
  "kernelspec": {
   "display_name": ".venv",
   "language": "python",
   "name": "python3"
  },
  "language_info": {
   "codemirror_mode": {
    "name": "ipython",
    "version": 3
   },
   "file_extension": ".py",
   "mimetype": "text/x-python",
   "name": "python",
   "nbconvert_exporter": "python",
   "pygments_lexer": "ipython3",
   "version": "3.11.3"
  }
 },
 "nbformat": 4,
 "nbformat_minor": 5
}

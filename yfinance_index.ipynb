{
 "cells": [
  {
   "cell_type": "markdown",
   "id": "1efabe8f",
   "metadata": {},
   "source": [
    "## Import"
   ]
  },
  {
   "cell_type": "code",
   "execution_count": 30,
   "id": "a660b3e1",
   "metadata": {},
   "outputs": [],
   "source": [
    "import yfinance as yf\n",
    "import pandas as pd \n",
    "import os\n",
    "\n",
    "from selenium import webdriver\n",
    "from selenium.webdriver.chrome.service import Service\n",
    "from webdriver_manager.chrome import ChromeDriverManager\n",
    "from selenium.webdriver.chrome.options import Options\n",
    "from selenium.webdriver.common.by import By\n",
    "from selenium.webdriver.support.ui import WebDriverWait\n",
    "from selenium.webdriver.support import expected_conditions as EC\n",
    "from selenium.common.exceptions import TimeoutException, NoSuchElementException, ElementNotInteractableException\n"
   ]
  },
  {
   "cell_type": "markdown",
   "id": "45031605",
   "metadata": {},
   "source": [
    "## Settings"
   ]
  },
  {
   "cell_type": "markdown",
   "id": "d1ddaef9",
   "metadata": {},
   "source": [
    "##### Choose the index you want to scrape. Available are \"dax\", \"mdax\" and \"sdax\". "
   ]
  },
  {
   "cell_type": "code",
   "execution_count": 20,
   "id": "c68c3e3d",
   "metadata": {},
   "outputs": [],
   "source": [
    "index = \"sdax\" \n",
    "\n",
    "# Set up Chrome options\n",
    "chrome_options = Options()\n",
    "chrome_options.add_argument(\"--headless\")  \n",
    "\n",
    "# Set up the Chrome driver using WebDriver Manager\n",
    "driver = webdriver.Chrome(service=Service(ChromeDriverManager().install()), options=chrome_options)\n",
    "wait = WebDriverWait(driver, 20)"
   ]
  },
  {
   "cell_type": "markdown",
   "id": "e408c440",
   "metadata": {},
   "source": [
    "## Scraper"
   ]
  },
  {
   "cell_type": "code",
   "execution_count": 21,
   "id": "fd637698",
   "metadata": {},
   "outputs": [
    {
     "name": "stdout",
     "output_type": "stream",
     "text": [
      "Data saved to data/sdax.csv\n"
     ]
    }
   ],
   "source": [
    "if index == \"ddax\":\n",
    "    url = \"XETR-DAX\"\n",
    "elif index == \"mdax\":\n",
    "    url = \"XETR-MDAX\"\n",
    "elif index == \"sdax\":\n",
    "    url = \"XETR-SDXP\"\n",
    "\n",
    "# Navigate to the TradingView MDAX page\n",
    "url = \"https://www.tradingview.com/symbols/\" + url + \"/components/\"\n",
    "driver.get(url)\n",
    "\n",
    "try:\n",
    "    # Wait for the table to load using a more reliable selector\n",
    "    wait.until(EC.presence_of_element_located((By.CSS_SELECTOR, \".table-Ngq2xrcG\")))\n",
    "\n",
    "    # Extract table rows\n",
    "    rows = driver.find_elements(By.CSS_SELECTOR, \".table-Ngq2xrcG tbody tr\")\n",
    "\n",
    "    # Extract data from rows\n",
    "    data = []\n",
    "    for row in rows:  # No need to skip header row since we are selecting tbody directly\n",
    "        ticker_cell = row.find_element(By.CSS_SELECTOR, \"td span.tickerCell-GrtoTeat\")\n",
    "        symbol = ticker_cell.find_element(By.CSS_SELECTOR, \"a.tickerNameBox-GrtoTeat\").text.strip()  # Extract ticker symbol\n",
    "        name = ticker_cell.find_element(By.CSS_SELECTOR, \"sup.tickerDescription-GrtoTeat\").text.strip()  # Extract company name\n",
    "        \n",
    "        data.append({\"Symbol\": symbol, \"Name\": name})\n",
    "\n",
    "except (TimeoutException, NoSuchElementException, ElementNotInteractableException) as e:\n",
    "    print(f\"An error occurred: {type(e).__name__}. Message: {str(e)}\")\n",
    "    print(driver.page_source)  # Print page source for debugging\n",
    "\n",
    "finally:\n",
    "    # Close the browser\n",
    "    driver.quit()\n",
    "\n",
    "# Create a DataFrame from the extracted data if data is not empty\n",
    "if data:\n",
    "    df = pd.DataFrame(data)\n",
    "    \n",
    "    # Ensure the 'data' directory exists, create if it doesn't\n",
    "    os.makedirs('data', exist_ok=True)\n",
    "    \n",
    "    # Save to CSV file in the 'data' subdirectory\n",
    "    df.to_csv(\"data/\" + index + \".csv\", index=False)\n",
    "    print(\"Data saved to data/\" + index + \".csv\")\n",
    "else:\n",
    "    print(\"No data extracted.\")"
   ]
  },
  {
   "cell_type": "markdown",
   "id": "80d16d33",
   "metadata": {},
   "source": [
    "## Load"
   ]
  },
  {
   "cell_type": "code",
   "execution_count": 24,
   "id": "2ae560f9",
   "metadata": {},
   "outputs": [
    {
     "name": "stdout",
     "output_type": "stream",
     "text": [
      "  Symbol                           Name\n",
      "0    DWS                   DWS GROUP SE\n",
      "1    SPG  SPRINGER NATURE AG & CO. KGAA\n",
      "2   SHA0                  SCHAEFFLER AG\n",
      "3   SIX2                        SIXT SE\n",
      "4   R3NK                  RENK GROUP AG\n"
     ]
    }
   ],
   "source": [
    "# Load the CSV file into a DataFrame based on the index variable\n",
    "df = pd.read_csv(f'data/{index}.csv')\n",
    "\n",
    "# Print the DataFrame to verify it has been loaded correctly\n",
    "print(df.head())"
   ]
  },
  {
   "cell_type": "markdown",
   "id": "99527771",
   "metadata": {},
   "source": [
    "## Enrich Data"
   ]
  },
  {
   "cell_type": "code",
   "execution_count": 31,
   "id": "d465fa28-d205-4236-9cbf-37837cc595de",
   "metadata": {},
   "outputs": [
    {
     "name": "stdout",
     "output_type": "stream",
     "text": [
      "Processing: TALANX AG (TLX)\n"
     ]
    },
    {
     "name": "stderr",
     "output_type": "stream",
     "text": [
      "429 Client Error: Too Many Requests for url: https://query2.finance.yahoo.com/v10/finance/quoteSummary/TLX?modules=financialData%2CquoteType%2CdefaultKeyStatistics%2CassetProfile%2CsummaryDetail&corsDomain=finance.yahoo.com&formatted=false&symbol=TLX&crumb=Edge%3A+Too+Many+Requests\n"
     ]
    },
    {
     "name": "stdout",
     "output_type": "stream",
     "text": [
      "Failed to process TLX: Expecting value: line 1 column 1 (char 0)\n",
      "Processing: TRATON SE (8TRA)\n"
     ]
    },
    {
     "name": "stderr",
     "output_type": "stream",
     "text": [
      "429 Client Error: Too Many Requests for url: https://query2.finance.yahoo.com/v10/finance/quoteSummary/8TRA?modules=financialData%2CquoteType%2CdefaultKeyStatistics%2CassetProfile%2CsummaryDetail&corsDomain=finance.yahoo.com&formatted=false&symbol=8TRA&crumb=Edge%3A+Too+Many+Requests\n"
     ]
    },
    {
     "name": "stdout",
     "output_type": "stream",
     "text": [
      "Failed to process 8TRA: Expecting value: line 1 column 1 (char 0)\n",
      "Processing: KNORR BREMSE AG (KBX)\n"
     ]
    },
    {
     "name": "stderr",
     "output_type": "stream",
     "text": [
      "429 Client Error: Too Many Requests for url: https://query2.finance.yahoo.com/v10/finance/quoteSummary/KBX?modules=financialData%2CquoteType%2CdefaultKeyStatistics%2CassetProfile%2CsummaryDetail&corsDomain=finance.yahoo.com&formatted=false&symbol=KBX&crumb=Edge%3A+Too+Many+Requests\n"
     ]
    },
    {
     "name": "stdout",
     "output_type": "stream",
     "text": [
      "Failed to process KBX: Expecting value: line 1 column 1 (char 0)\n"
     ]
    },
    {
     "ename": "KeyboardInterrupt",
     "evalue": "",
     "output_type": "error",
     "traceback": [
      "\u001b[0;31m---------------------------------------------------------------------------\u001b[0m",
      "\u001b[0;31mKeyboardInterrupt\u001b[0m                         Traceback (most recent call last)",
      "Cell \u001b[0;32mIn[31], line 77\u001b[0m\n\u001b[1;32m     74\u001b[0m         \u001b[38;5;28mprint\u001b[39m(\u001b[38;5;124mf\u001b[39m\u001b[38;5;124m\"\u001b[39m\u001b[38;5;124mFailed to process \u001b[39m\u001b[38;5;132;01m{\u001b[39;00msymbol\u001b[38;5;132;01m}\u001b[39;00m\u001b[38;5;124m: \u001b[39m\u001b[38;5;132;01m{\u001b[39;00me\u001b[38;5;132;01m}\u001b[39;00m\u001b[38;5;124m\"\u001b[39m)\n\u001b[1;32m     76\u001b[0m     \u001b[38;5;66;03m# Add a delay between requests to avoid hitting the rate limit\u001b[39;00m\n\u001b[0;32m---> 77\u001b[0m     \u001b[43mtime\u001b[49m\u001b[38;5;241;43m.\u001b[39;49m\u001b[43msleep\u001b[49m\u001b[43m(\u001b[49m\u001b[43mrandom\u001b[49m\u001b[38;5;241;43m.\u001b[39;49m\u001b[43muniform\u001b[49m\u001b[43m(\u001b[49m\u001b[38;5;241;43m1\u001b[39;49m\u001b[43m,\u001b[49m\u001b[43m \u001b[49m\u001b[38;5;241;43m3\u001b[39;49m\u001b[43m)\u001b[49m\u001b[43m)\u001b[49m\n\u001b[1;32m     79\u001b[0m \u001b[38;5;66;03m# Create a dataframe with the company data\u001b[39;00m\n\u001b[1;32m     80\u001b[0m result_df \u001b[38;5;241m=\u001b[39m pd\u001b[38;5;241m.\u001b[39mDataFrame(company_data_list)\n",
      "\u001b[0;31mKeyboardInterrupt\u001b[0m: "
     ]
    }
   ],
   "source": [
    "import yfinance as yf\n",
    "import pandas as pd\n",
    "import os\n",
    "import time\n",
    "import random\n",
    "\n",
    "# Update the user agent headers in yfinance\n",
    "yf.utils.user_agent_headers = {\n",
    "    'User-Agent': 'Mozilla/5.0 (Macintosh; Intel Mac OS X 10_10_1) AppleWebKit/537.36 (KHTML, like Gecko) Chrome/133.0.0.0 Safari/537.36'\n",
    "}\n",
    "\n",
    "# Load the CSV file into a DataFrame based on the index variable\n",
    "index = \"mdax\"  # Example index value\n",
    "df = pd.read_csv(f'data/{index}.csv')\n",
    "\n",
    "# Determine the correct column names\n",
    "symbol_column = 'Symbol'\n",
    "company_column = 'Name'\n",
    "\n",
    "# Define the function to get company data from yfinance\n",
    "def get_company_data(symbol):\n",
    "    ticker = yf.Ticker(symbol)\n",
    "    data = ticker.info\n",
    "    financials = ticker.financials\n",
    "\n",
    "    latest_financials = financials.iloc[:, 0] if not financials.empty else pd.Series()\n",
    "\n",
    "    price = data.get('currentPrice', None)\n",
    "    market_cap = data.get('marketCap', None)\n",
    "    revenue = latest_financials.get('Total Revenue', None)\n",
    "    operating_income = latest_financials.get('Operating Income', None)\n",
    "    net_income = latest_financials.get('Net Income', None)\n",
    "    book_value = data.get('bookValue', None)\n",
    "\n",
    "    try:\n",
    "        cash_flow = latest_financials.get('Operating Cash Flow', None)\n",
    "        if cash_flow is None:\n",
    "            cash_flow = net_income + latest_financials.get('Depreciation', 0)\n",
    "    except:\n",
    "        cash_flow = None\n",
    "\n",
    "    shares_outstanding = data.get('sharesOutstanding', None)\n",
    "    kgv = price / (net_income / shares_outstanding) if all(v is not None and v != 0 for v in [price, net_income, shares_outstanding]) else None\n",
    "    kuv = market_cap / revenue if all(v is not None and v != 0 for v in [market_cap, revenue]) else None\n",
    "    kbv = price / book_value if all(v is not None and v != 0 for v in [price, book_value]) else None\n",
    "    kcv = market_cap / cash_flow if all(v is not None and v != 0 for v in [market_cap, cash_flow]) else None\n",
    "\n",
    "    return {\n",
    "        'Symbol': symbol,\n",
    "        'Price': price,\n",
    "        'Market Cap': market_cap,\n",
    "        'Revenue': revenue,\n",
    "        'Operating Income': operating_income,\n",
    "        'Net Income': net_income,\n",
    "        'KGV (P/E)': kgv,\n",
    "        'KUV (P/S)': kuv,\n",
    "        'KBV (P/B)': kbv,\n",
    "        'KCV (P/CF)': kcv\n",
    "    }\n",
    "\n",
    "# Create a list of company data\n",
    "company_data_list = []\n",
    "\n",
    "# Iterate through each row in the CSV\n",
    "for _, row in df.iterrows():\n",
    "    symbol = row[symbol_column].strip()  # Remove any leading/trailing whitespace\n",
    "    company_name = row[company_column].strip()  # Remove any leading/trailing whitespace\n",
    "    print(f\"Processing: {company_name} ({symbol})\")  # Add this line for debugging\n",
    "    try:\n",
    "        company_data = get_company_data(symbol)\n",
    "        company_data['Company'] = company_name\n",
    "        company_data_list.append(company_data)\n",
    "    except Exception as e:\n",
    "        print(f\"Failed to process {symbol}: {e}\")\n",
    "    \n",
    "    # Add a delay between requests to avoid hitting the rate limit\n",
    "    time.sleep(random.uniform(1, 3))\n",
    "\n",
    "# Create a dataframe with the company data\n",
    "result_df = pd.DataFrame(company_data_list)\n",
    "\n",
    "# Reorder columns to put Symbol and Company first\n",
    "columns_order = ['Symbol', 'Company'] + [col for col in result_df.columns if col not in ['Symbol', 'Company']]\n",
    "result_df = result_df[columns_order]\n",
    "\n",
    "# Print the result\n",
    "print(result_df.head(5))"
   ]
  },
  {
   "cell_type": "code",
   "execution_count": null,
   "id": "c006f476",
   "metadata": {},
   "outputs": [
    {
     "name": "stdout",
     "output_type": "stream",
     "text": [
      "Data has been saved to data/mdax.csv\n"
     ]
    }
   ],
   "source": [
    "# Create the 'data' subdirectory if it doesn't exist\n",
    "os.makedirs('data', exist_ok=True)\n",
    "\n",
    "# Save the DataFrame to a CSV file in the 'data' subdirectory\n",
    "csv_filename = 'data/mdax_results.csv'\n",
    "df.to_csv(csv_filename, index=False)\n",
    "print(f\"Data has been saved to {csv_filename}\")\n",
    "\n"
   ]
  }
 ],
 "metadata": {
  "kernelspec": {
   "display_name": "venv",
   "language": "python",
   "name": "python3"
  },
  "language_info": {
   "codemirror_mode": {
    "name": "ipython",
    "version": 3
   },
   "file_extension": ".py",
   "mimetype": "text/x-python",
   "name": "python",
   "nbconvert_exporter": "python",
   "pygments_lexer": "ipython3",
   "version": "3.12.2"
  }
 },
 "nbformat": 4,
 "nbformat_minor": 5
}

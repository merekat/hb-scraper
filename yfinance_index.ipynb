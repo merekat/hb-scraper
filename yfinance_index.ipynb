{
 "cells": [
  {
   "cell_type": "code",
   "execution_count": 7,
   "id": "c2fbcf4b-05c2-45d4-9741-5b535a03c7a0",
   "metadata": {},
   "outputs": [],
   "source": [
    "import yfinance as yf\n",
    "import pandas as pd \n",
    "import os\n",
    "\n",
    "from selenium import webdriver\n",
    "from selenium.webdriver.chrome.service import Service\n",
    "from webdriver_manager.chrome import ChromeDriverManager\n",
    "from selenium.webdriver.chrome.options import Options\n",
    "from selenium.webdriver.common.by import By\n",
    "from selenium.webdriver.support.ui import WebDriverWait\n",
    "from selenium.webdriver.support import expected_conditions as EC\n",
    "\n",
    "# Set up Chrome options\n",
    "chrome_options = Options()\n",
    "chrome_options.add_argument(\"--headless\")  \n",
    "\n",
    "# Set up the Chrome driver using WebDriver Manager\n",
    "driver = webdriver.Chrome(service=Service(ChromeDriverManager().install()), options=chrome_options)\n",
    "wait = WebDriverWait(driver, 20)"
   ]
  },
  {
   "cell_type": "markdown",
   "id": "d1ddaef9",
   "metadata": {},
   "source": [
    "##### Choose the index you want to scrape. Available are \"dax\", \"mdax\" and \"sdax\". "
   ]
  },
  {
   "cell_type": "code",
   "execution_count": 9,
   "id": "c68c3e3d",
   "metadata": {},
   "outputs": [],
   "source": [
    "index = \"sdax\""
   ]
  },
  {
   "cell_type": "code",
   "execution_count": 8,
   "id": "fd637698",
   "metadata": {},
   "outputs": [
    {
     "name": "stdout",
     "output_type": "stream",
     "text": [
      "Data saved to data/mdax.csv\n"
     ]
    }
   ],
   "source": [
    "if index == \"ddax\":\n",
    "    url = \"XETR-DAX\"\n",
    "elif index == \"mdax\":\n",
    "    url = \"XETR-MDAX\"\n",
    "elif index == \"sdax\":\n",
    "    url = \"XETR-SDXP\"\n",
    "\n",
    "# Navigate to the TradingView MDAX page\n",
    "url = \"https://www.tradingview.com/symbols/\" + index + \"/components/\"\n",
    "driver.get(url)\n",
    "\n",
    "try:\n",
    "    # Wait for the table to load using a more reliable selector\n",
    "    wait.until(EC.presence_of_element_located((By.CSS_SELECTOR, \".table-Ngq2xrcG\")))\n",
    "\n",
    "    # Extract table rows\n",
    "    rows = driver.find_elements(By.CSS_SELECTOR, \".table-Ngq2xrcG tbody tr\")\n",
    "\n",
    "    # Extract data from rows\n",
    "    data = []\n",
    "    for row in rows:  # No need to skip header row since we are selecting tbody directly\n",
    "        ticker_cell = row.find_element(By.CSS_SELECTOR, \"td span.tickerCell-GrtoTeat\")\n",
    "        symbol = ticker_cell.find_element(By.CSS_SELECTOR, \"a.tickerNameBox-GrtoTeat\").text.strip()  # Extract ticker symbol\n",
    "        name = ticker_cell.find_element(By.CSS_SELECTOR, \"sup.tickerDescription-GrtoTeat\").text.strip()  # Extract company name\n",
    "        \n",
    "        data.append({\"Symbol\": symbol, \"Name\": name})\n",
    "\n",
    "except Exception as e:\n",
    "    print(f\"An error occurred: {e}\")\n",
    "    print(driver.page_source)  # Print page source for debugging\n",
    "\n",
    "finally:\n",
    "    # Close the browser\n",
    "    driver.quit()\n",
    "\n",
    "# Create a DataFrame from the extracted data if data is not empty\n",
    "if data:\n",
    "    df = pd.DataFrame(data)\n",
    "    \n",
    "    # Ensure the 'data' directory exists, create if it doesn't\n",
    "    os.makedirs('data', exist_ok=True)\n",
    "    \n",
    "    # Save to CSV file in the 'data' subdirectory\n",
    "    df.to_csv(\"data/\" + index + \".csv\", index=False)\n",
    "    print(\"Data saved to data/\" + index + \".csv\")\n",
    "else:\n",
    "    print(\"No data extracted.\")"
   ]
  },
  {
   "cell_type": "code",
   "execution_count": 6,
   "id": "2ae560f9",
   "metadata": {},
   "outputs": [],
   "source": [
    "# Load the CSV file\n",
    "\" + index + \"mdax_df = pd.read_csv('data/\" + index + \".csv')\n",
    "\n",
    "# Determine the correct column names\n",
    "symbol_column = 'symbol'\n",
    "company_column = 'company'\n",
    "\n",
    "# Create a list of company data\n",
    "company_data_list = []"
   ]
  },
  {
   "cell_type": "code",
   "execution_count": 7,
   "id": "d465fa28-d205-4236-9cbf-37837cc595de",
   "metadata": {},
   "outputs": [
    {
     "name": "stdout",
     "output_type": "stream",
     "text": [
      "Processing: TALANX AG (TLX)\n",
      "Processing: TRATON SE (8TRA)\n"
     ]
    },
    {
     "name": "stderr",
     "output_type": "stream",
     "text": [
      "404 Client Error: Not Found for url: https://query2.finance.yahoo.com/v10/finance/quoteSummary/8TRA?modules=financialData%2CquoteType%2CdefaultKeyStatistics%2CassetProfile%2CsummaryDetail&corsDomain=finance.yahoo.com&formatted=false&symbol=8TRA&crumb=K0OqfItpey7\n"
     ]
    },
    {
     "name": "stdout",
     "output_type": "stream",
     "text": [
      "Processing: KNORR-BREMSE AG (KBX)\n",
      "Processing: NEMETSCHEK SE (NEM)\n",
      "Processing: HOCHTIEF AG (HOT)\n",
      "Processing: HELLA GMBH & CO. KGAA (HLE)\n",
      "Processing: RATIONAL AG (RAA)\n",
      "Processing: DEUTSCHE WOHNEN SE (DWNI)\n"
     ]
    },
    {
     "name": "stderr",
     "output_type": "stream",
     "text": [
      "404 Client Error: Not Found for url: https://query2.finance.yahoo.com/v10/finance/quoteSummary/DWNI?modules=financialData%2CquoteType%2CdefaultKeyStatistics%2CassetProfile%2CsummaryDetail&corsDomain=finance.yahoo.com&formatted=false&symbol=DWNI&crumb=K0OqfItpey7\n"
     ]
    },
    {
     "name": "stdout",
     "output_type": "stream",
     "text": [
      "Processing: CTS EVENTIM AG & CO. KGAA (EVD)\n",
      "Processing: DELIVERY HERO SE (DHER)\n"
     ]
    },
    {
     "name": "stderr",
     "output_type": "stream",
     "text": [
      "404 Client Error: Not Found for url: https://query2.finance.yahoo.com/v10/finance/quoteSummary/DHER?modules=financialData%2CquoteType%2CdefaultKeyStatistics%2CassetProfile%2CsummaryDetail&corsDomain=finance.yahoo.com&formatted=false&symbol=DHER&crumb=K0OqfItpey7\n"
     ]
    },
    {
     "name": "stdout",
     "output_type": "stream",
     "text": [
      "Processing: GEA GROUP AG (G1A)\n"
     ]
    },
    {
     "name": "stderr",
     "output_type": "stream",
     "text": [
      "404 Client Error: Not Found for url: https://query2.finance.yahoo.com/v10/finance/quoteSummary/G1A?modules=financialData%2CquoteType%2CdefaultKeyStatistics%2CassetProfile%2CsummaryDetail&corsDomain=finance.yahoo.com&formatted=false&symbol=G1A&crumb=K0OqfItpey7\n"
     ]
    },
    {
     "name": "stdout",
     "output_type": "stream",
     "text": [
      "Processing: EVONIK INDUSTRIES AG (EVK)\n"
     ]
    },
    {
     "name": "stderr",
     "output_type": "stream",
     "text": [
      "404 Client Error: Not Found for url: https://query2.finance.yahoo.com/v10/finance/quoteSummary/EVK?modules=financialData%2CquoteType%2CdefaultKeyStatistics%2CassetProfile%2CsummaryDetail&corsDomain=finance.yahoo.com&formatted=false&symbol=EVK&crumb=K0OqfItpey7\n"
     ]
    },
    {
     "name": "stdout",
     "output_type": "stream",
     "text": [
      "Processing: LUFTHANSA (LHA)\n",
      "Processing: SCOUT24 SE (G24)\n"
     ]
    },
    {
     "name": "stderr",
     "output_type": "stream",
     "text": [
      "404 Client Error: Not Found for url: https://query2.finance.yahoo.com/v10/finance/quoteSummary/G24?modules=financialData%2CquoteType%2CdefaultKeyStatistics%2CassetProfile%2CsummaryDetail&corsDomain=finance.yahoo.com&formatted=false&symbol=G24&crumb=K0OqfItpey7\n"
     ]
    },
    {
     "name": "stdout",
     "output_type": "stream",
     "text": [
      "Processing: PUMA SE (PUM)\n",
      "Processing: LEG IMMOBILIEN SE (LEG)\n",
      "Processing: FRAPORT AG (FRA)\n",
      "Processing: FUCHS SE (FPE)\n",
      "Processing: HENSOLDT AG (HAG)\n",
      "Processing: RTL GROUP S.A. (RRTL)\n"
     ]
    },
    {
     "name": "stderr",
     "output_type": "stream",
     "text": [
      "404 Client Error: Not Found for url: https://query2.finance.yahoo.com/v10/finance/quoteSummary/RRTL?modules=financialData%2CquoteType%2CdefaultKeyStatistics%2CassetProfile%2CsummaryDetail&corsDomain=finance.yahoo.com&formatted=false&symbol=RRTL&crumb=K0OqfItpey7\n"
     ]
    },
    {
     "name": "stdout",
     "output_type": "stream",
     "text": [
      "Processing: KION GROUP AG (KGX)\n",
      "Processing: CARL ZEISS MEDITEC AG (AFX)\n",
      "Processing: TUI AG (TUI1)\n"
     ]
    },
    {
     "name": "stderr",
     "output_type": "stream",
     "text": [
      "404 Client Error: Not Found for url: https://query2.finance.yahoo.com/v10/finance/quoteSummary/TUI1?modules=financialData%2CquoteType%2CdefaultKeyStatistics%2CassetProfile%2CsummaryDetail&corsDomain=finance.yahoo.com&formatted=false&symbol=TUI1&crumb=K0OqfItpey7\n"
     ]
    },
    {
     "name": "stdout",
     "output_type": "stream",
     "text": [
      "Processing: KRONES AG (KRN)\n",
      "Processing: BECHTLE AG (BC8)\n"
     ]
    },
    {
     "name": "stderr",
     "output_type": "stream",
     "text": [
      "404 Client Error: Not Found for url: https://query2.finance.yahoo.com/v10/finance/quoteSummary/BC8?modules=financialData%2CquoteType%2CdefaultKeyStatistics%2CassetProfile%2CsummaryDetail&corsDomain=finance.yahoo.com&formatted=false&symbol=BC8&crumb=K0OqfItpey7\n"
     ]
    },
    {
     "name": "stdout",
     "output_type": "stream",
     "text": [
      "Processing: SCHOTT PHARMA AG & CO. KGAA (1SXP)\n"
     ]
    },
    {
     "name": "stderr",
     "output_type": "stream",
     "text": [
      "404 Client Error: Not Found for url: https://query2.finance.yahoo.com/v10/finance/quoteSummary/1SXP?modules=financialData%2CquoteType%2CdefaultKeyStatistics%2CassetProfile%2CsummaryDetail&corsDomain=finance.yahoo.com&formatted=false&symbol=1SXP&crumb=K0OqfItpey7\n"
     ]
    },
    {
     "name": "stdout",
     "output_type": "stream",
     "text": [
      "Processing: AUTO1 GROUP SE (AG1)\n"
     ]
    },
    {
     "name": "stderr",
     "output_type": "stream",
     "text": [
      "404 Client Error: Not Found for url: https://query2.finance.yahoo.com/v10/finance/quoteSummary/AG1?modules=financialData%2CquoteType%2CdefaultKeyStatistics%2CassetProfile%2CsummaryDetail&corsDomain=finance.yahoo.com&formatted=false&symbol=AG1&crumb=K0OqfItpey7\n"
     ]
    },
    {
     "name": "stdout",
     "output_type": "stream",
     "text": [
      "Processing: FREENET AG (FNTN)\n",
      "Processing: STRÖER SE & CO. KGAA (SAX)\n",
      "Processing: WACKER CHEMIE AG (WCH)\n",
      "Processing: HUGO BOSS AG (BOSS)\n",
      "Processing: NORDEX SE (NDX1)\n"
     ]
    },
    {
     "name": "stderr",
     "output_type": "stream",
     "text": [
      "404 Client Error: Not Found for url: https://query2.finance.yahoo.com/v10/finance/quoteSummary/NDX1?modules=financialData%2CquoteType%2CdefaultKeyStatistics%2CassetProfile%2CsummaryDetail&corsDomain=finance.yahoo.com&formatted=false&symbol=NDX1&crumb=K0OqfItpey7\n"
     ]
    },
    {
     "name": "stdout",
     "output_type": "stream",
     "text": [
      "Processing: AROUNDTOWN SA (AT1)\n"
     ]
    },
    {
     "name": "stderr",
     "output_type": "stream",
     "text": [
      "404 Client Error: Not Found for url: https://query2.finance.yahoo.com/v10/finance/quoteSummary/AT1?modules=financialData%2CquoteType%2CdefaultKeyStatistics%2CassetProfile%2CsummaryDetail&corsDomain=finance.yahoo.com&formatted=false&symbol=AT1&crumb=K0OqfItpey7\n"
     ]
    },
    {
     "name": "stdout",
     "output_type": "stream",
     "text": [
      "Processing: UNITED INTERNET AG (UTDI)\n"
     ]
    },
    {
     "name": "stderr",
     "output_type": "stream",
     "text": [
      "404 Client Error: Not Found for url: https://query2.finance.yahoo.com/v10/finance/quoteSummary/UTDI?modules=financialData%2CquoteType%2CdefaultKeyStatistics%2CassetProfile%2CsummaryDetail&corsDomain=finance.yahoo.com&formatted=false&symbol=UTDI&crumb=K0OqfItpey7\n"
     ]
    },
    {
     "name": "stdout",
     "output_type": "stream",
     "text": [
      "Processing: JUNGHEINRICH AG (JUN3)\n"
     ]
    },
    {
     "name": "stderr",
     "output_type": "stream",
     "text": [
      "404 Client Error: Not Found for url: https://query2.finance.yahoo.com/v10/finance/quoteSummary/JUN3?modules=financialData%2CquoteType%2CdefaultKeyStatistics%2CassetProfile%2CsummaryDetail&corsDomain=finance.yahoo.com&formatted=false&symbol=JUN3&crumb=K0OqfItpey7\n"
     ]
    },
    {
     "name": "stdout",
     "output_type": "stream",
     "text": [
      "Processing: THYSSENKRUPP AG (TKA)\n",
      "Processing: REDCARE PHARMACY NV (RDC)\n",
      "Processing: GERRESHEIMER AG (GXI)\n",
      "Processing: TAG IMMOBILIEN AG (TEG)\n",
      "Processing: K+S AG (SDF)\n"
     ]
    },
    {
     "data": {
      "text/html": [
       "<div>\n",
       "<style scoped>\n",
       "    .dataframe tbody tr th:only-of-type {\n",
       "        vertical-align: middle;\n",
       "    }\n",
       "\n",
       "    .dataframe tbody tr th {\n",
       "        vertical-align: top;\n",
       "    }\n",
       "\n",
       "    .dataframe thead th {\n",
       "        text-align: right;\n",
       "    }\n",
       "</style>\n",
       "<table border=\"1\" class=\"dataframe\">\n",
       "  <thead>\n",
       "    <tr style=\"text-align: right;\">\n",
       "      <th></th>\n",
       "      <th>Symbol</th>\n",
       "      <th>Company</th>\n",
       "      <th>Price</th>\n",
       "      <th>Market Cap</th>\n",
       "      <th>Revenue</th>\n",
       "      <th>Operating Income</th>\n",
       "      <th>Net Income</th>\n",
       "      <th>KGV (P/E)</th>\n",
       "      <th>KUV (P/S)</th>\n",
       "      <th>KBV (P/B)</th>\n",
       "      <th>KCV (P/CF)</th>\n",
       "    </tr>\n",
       "  </thead>\n",
       "  <tbody>\n",
       "    <tr>\n",
       "      <th>0</th>\n",
       "      <td>TLX</td>\n",
       "      <td>TALANX AG</td>\n",
       "      <td>15.5205</td>\n",
       "      <td>5.195084e+09</td>\n",
       "      <td>4.966590e+08</td>\n",
       "      <td>39236000.0</td>\n",
       "      <td>5.211000e+06</td>\n",
       "      <td>996.945661</td>\n",
       "      <td>10.460062</td>\n",
       "      <td>12.837469</td>\n",
       "      <td>996.945649</td>\n",
       "    </tr>\n",
       "    <tr>\n",
       "      <th>1</th>\n",
       "      <td>8TRA</td>\n",
       "      <td>TRATON SE</td>\n",
       "      <td>NaN</td>\n",
       "      <td>NaN</td>\n",
       "      <td>NaN</td>\n",
       "      <td>NaN</td>\n",
       "      <td>NaN</td>\n",
       "      <td>NaN</td>\n",
       "      <td>NaN</td>\n",
       "      <td>NaN</td>\n",
       "      <td>NaN</td>\n",
       "    </tr>\n",
       "    <tr>\n",
       "      <th>2</th>\n",
       "      <td>KBX</td>\n",
       "      <td>KNORR-BREMSE AG</td>\n",
       "      <td>NaN</td>\n",
       "      <td>NaN</td>\n",
       "      <td>NaN</td>\n",
       "      <td>NaN</td>\n",
       "      <td>NaN</td>\n",
       "      <td>NaN</td>\n",
       "      <td>NaN</td>\n",
       "      <td>NaN</td>\n",
       "      <td>NaN</td>\n",
       "    </tr>\n",
       "    <tr>\n",
       "      <th>3</th>\n",
       "      <td>NEM</td>\n",
       "      <td>NEMETSCHEK SE</td>\n",
       "      <td>40.6200</td>\n",
       "      <td>4.624384e+10</td>\n",
       "      <td>1.181200e+10</td>\n",
       "      <td>708000000.0</td>\n",
       "      <td>-2.494000e+09</td>\n",
       "      <td>-18.542037</td>\n",
       "      <td>3.914988</td>\n",
       "      <td>1.563992</td>\n",
       "      <td>-18.542037</td>\n",
       "    </tr>\n",
       "    <tr>\n",
       "      <th>4</th>\n",
       "      <td>HOT</td>\n",
       "      <td>HOCHTIEF AG</td>\n",
       "      <td>NaN</td>\n",
       "      <td>NaN</td>\n",
       "      <td>NaN</td>\n",
       "      <td>NaN</td>\n",
       "      <td>NaN</td>\n",
       "      <td>NaN</td>\n",
       "      <td>NaN</td>\n",
       "      <td>NaN</td>\n",
       "      <td>NaN</td>\n",
       "    </tr>\n",
       "  </tbody>\n",
       "</table>\n",
       "</div>"
      ],
      "text/plain": [
       "  Symbol          Company    Price    Market Cap       Revenue  \\\n",
       "0    TLX        TALANX AG  15.5205  5.195084e+09  4.966590e+08   \n",
       "1   8TRA        TRATON SE      NaN           NaN           NaN   \n",
       "2    KBX  KNORR-BREMSE AG      NaN           NaN           NaN   \n",
       "3    NEM    NEMETSCHEK SE  40.6200  4.624384e+10  1.181200e+10   \n",
       "4    HOT      HOCHTIEF AG      NaN           NaN           NaN   \n",
       "\n",
       "   Operating Income    Net Income   KGV (P/E)  KUV (P/S)  KBV (P/B)  \\\n",
       "0        39236000.0  5.211000e+06  996.945661  10.460062  12.837469   \n",
       "1               NaN           NaN         NaN        NaN        NaN   \n",
       "2               NaN           NaN         NaN        NaN        NaN   \n",
       "3       708000000.0 -2.494000e+09  -18.542037   3.914988   1.563992   \n",
       "4               NaN           NaN         NaN        NaN        NaN   \n",
       "\n",
       "   KCV (P/CF)  \n",
       "0  996.945649  \n",
       "1         NaN  \n",
       "2         NaN  \n",
       "3  -18.542037  \n",
       "4         NaN  "
      ]
     },
     "execution_count": 7,
     "metadata": {},
     "output_type": "execute_result"
    }
   ],
   "source": [
    "def get_company_data(symbol):\n",
    "    ticker = yf.Ticker(symbol)\n",
    "    data = ticker.info\n",
    "    financials = ticker.financials\n",
    "\n",
    "    latest_financials = financials.iloc[:, 0] if not financials.empty else pd.Series()\n",
    "\n",
    "    price = data.get('currentPrice', None)\n",
    "    market_cap = data.get('marketCap', None)\n",
    "    revenue = latest_financials.get('Total Revenue', None)\n",
    "    operating_income = latest_financials.get('Operating Income', None)\n",
    "    net_income = latest_financials.get('Net Income', None)\n",
    "    book_value = data.get('bookValue', None)\n",
    "\n",
    "    try:\n",
    "        cash_flow = latest_financials.get('Operating Cash Flow', None)\n",
    "        if cash_flow is None:\n",
    "            cash_flow = net_income + latest_financials.get('Depreciation', 0)\n",
    "    except:\n",
    "        cash_flow = None\n",
    "\n",
    "    shares_outstanding = data.get('sharesOutstanding', None)\n",
    "    kgv = price / (net_income / shares_outstanding) if all(v is not None and v != 0 for v in [price, net_income, shares_outstanding]) else None\n",
    "    kuv = market_cap / revenue if all(v is not None and v != 0 for v in [market_cap, revenue]) else None\n",
    "    kbv = price / book_value if all(v is not None and v != 0 for v in [price, book_value]) else None\n",
    "    kcv = market_cap / cash_flow if all(v is not None and v != 0 for v in [market_cap, cash_flow]) else None\n",
    "\n",
    "    return {\n",
    "        'Symbol': symbol,\n",
    "        'Price': price,\n",
    "        'Market Cap': market_cap,\n",
    "        'Revenue': revenue,\n",
    "        'Operating Income': operating_income,\n",
    "        'Net Income': net_income,\n",
    "        'KGV (P/E)': kgv,\n",
    "        'KUV (P/S)': kuv,\n",
    "        'KBV (P/B)': kbv,\n",
    "        'KCV (P/CF)': kcv\n",
    "    }\n",
    "\n",
    "\n",
    "# Iterate through each row in the CSV\n",
    "for _, row in mdax_df.iterrows():\n",
    "    symbol = row[symbol_column].strip()  # Remove any leading/trailing whitespace\n",
    "    company_name = row[company_column].strip()  # Remove any leading/trailing whitespace\n",
    "    print(f\"Processing: {company_name} ({symbol})\")  # Add this line for debugging\n",
    "    company_data = get_company_data(symbol)\n",
    "    company_data['Company'] = company_name\n",
    "    company_data_list.append(company_data)\n",
    "\n",
    "# Create a dataframe with the company data\n",
    "result_df = pd.DataFrame(company_data_list)\n",
    "\n",
    "# Reorder columns to put Symbol and Company first\n",
    "columns_order = ['Symbol', 'Company'] + [col for col in result_df.columns if col not in ['Symbol', 'Company']]\n",
    "result_df = result_df[columns_order]\n",
    "\n",
    "# Print the result\n",
    "result_df.head(5)\n",
    "\n"
   ]
  },
  {
   "cell_type": "code",
   "execution_count": 15,
   "id": "c006f476",
   "metadata": {},
   "outputs": [
    {
     "name": "stdout",
     "output_type": "stream",
     "text": [
      "Data has been saved to data/mdax.csv\n"
     ]
    }
   ],
   "source": [
    "# Create the 'data' subdirectory if it doesn't exist\n",
    "os.makedirs('data', exist_ok=True)\n",
    "\n",
    "# Save the DataFrame to a CSV file in the 'data' subdirectory\n",
    "csv_filename = 'data/mdax_results.csv'\n",
    "df.to_csv(csv_filename, index=False)\n",
    "print(f\"Data has been saved to {csv_filename}\")\n"
   ]
  }
 ],
 "metadata": {
  "kernelspec": {
   "display_name": ".venv",
   "language": "python",
   "name": "python3"
  },
  "language_info": {
   "codemirror_mode": {
    "name": "ipython",
    "version": 3
   },
   "file_extension": ".py",
   "mimetype": "text/x-python",
   "name": "python",
   "nbconvert_exporter": "python",
   "pygments_lexer": "ipython3",
   "version": "3.11.3"
  }
 },
 "nbformat": 4,
 "nbformat_minor": 5
}
